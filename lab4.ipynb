{
 "cells": [
  {
   "cell_type": "code",
   "execution_count": null,
   "metadata": {},
   "outputs": [],
   "source": [
    "### Task 1.1\n",
    "\n",
    "import numpy as np\n",
    "import random as rd\n",
    "import pandas as pd\n",
    "from sklearn.model_selection import train_test_split\n",
    "\n",
    "Ws=[]\n",
    "data = pd.read_csv('kc_house_data.csv', delimiter=\",\")\n",
    "\n",
    "precio = data['price']\n",
    "living = data['sqft_living']\n",
    "\n",
    "precio = np.array(data['price'])\n",
    "living = np.array(data['sqft_living'])\n",
    "x_train, x_test, y_train, y_test = train_test_split(living, \n",
    "                                                    precio, \n",
    "                                                    test_size=0.2,\n",
    "                                                    random_state=1234)\n",
    "\n",
    "for i in range(len(data)):\n",
    "    Ws.append(rd.randint(0,1000))\n",
    "\n"
   ]
  },
  {
   "cell_type": "code",
   "execution_count": null,
   "metadata": {},
   "outputs": [],
   "source": []
  }
 ],
 "metadata": {
  "kernelspec": {
   "display_name": "Python 3",
   "language": "python",
   "name": "python3"
  },
  "language_info": {
   "codemirror_mode": {
    "name": "ipython",
    "version": 3
   },
   "file_extension": ".py",
   "mimetype": "text/x-python",
   "name": "python",
   "nbconvert_exporter": "python",
   "pygments_lexer": "ipython3",
   "version": "3.10.6"
  },
  "orig_nbformat": 4,
  "vscode": {
   "interpreter": {
    "hash": "91555e203e11ede8496fb03363e909d37d72bb051c20872b508296bfc889c327"
   }
  }
 },
 "nbformat": 4,
 "nbformat_minor": 2
}
